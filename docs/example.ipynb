{
    "cells": [
        {
            "cell_type": "markdown",
            "metadata": {},
            "source": [
                "# cat2cat"
            ]
        },
        {
            "cell_type": "markdown",
            "metadata": {},
            "source": [
                "## About\n",
                "\n",
                "Unifying an inconsistent coded categorical variable in a panel/longtitudal dataset\n",
                "\n",
                "There is offered the cat2cat procedure to map a categorical variable according to a mapping (transition) table between two different time points. The mapping (transition) table should to have a candidate for each category from the targeted for an update period. The main rule is to replicate the observation if it could be assigned to a few categories, then using simple frequencies or statistical methods to approximate probabilities of being assigned to each of them.\n",
                "\n",
                "This algorithm was invented and implemented in the paper by (Nasinski, Majchrowska and Broniatowska (2020) doi:10.24425/cejeme.2020.134747)."
            ]
        },
        {
            "cell_type": "markdown",
            "metadata": {},
            "source": [
                "## Graph - cat2cat procedure\n",
                "\n",
                "The graphs present how the `cat2cat` function (and the underlying procedure) works, in this case under a panel dataset without the unique identifiers and only two periods.\n",
                "\n",
                "![Backward Mapping](https://raw.githubusercontent.com/Polkas/cat2cat/master/man/figures/back_nom.png)\n",
                "\n",
                "![Forward Mapping](https://raw.githubusercontent.com/Polkas/cat2cat/master/man/figures/for_nom.png)"
            ]
        },
        {
            "cell_type": "markdown",
            "metadata": {},
            "source": [
                "## Example usage\n",
                "\n",
                "To use `cat2cat` in a project:"
            ]
        },
        {
            "cell_type": "markdown",
            "metadata": {},
            "source": [
                "### Load example data"
            ]
        },
        {
            "cell_type": "code",
            "execution_count": null,
            "metadata": {},
            "outputs": [],
            "source": [
                "# cat2cat datasets\n",
                "from cat2cat.datasets import load_trans, load_occup, load_verticals\n",
                "from numpy.random import seed\n",
                "\n",
                "seed(1234)\n",
                "\n",
                "trans = load_trans()\n",
                "occup = load_occup()\n",
                "verticals = load_verticals()"
            ]
        },
        {
            "cell_type": "markdown",
            "metadata": {},
            "source": [
                "### Low-level functions"
            ]
        },
        {
            "cell_type": "code",
            "execution_count": null,
            "metadata": {},
            "outputs": [],
            "source": [
                "from cat2cat.mappings import get_mappings, get_freqs, cat_apply_freq\n",
                "\n",
                "# convert the mapping table to two association lists\n",
                "mappings = get_mappings(trans)\n",
                "# get a variable levels freqencies\n",
                "codes_new = occup.code[occup.year == 2010].values\n",
                "freqs = get_freqs(codes_new)\n",
                "# apply the frequencies to the (one) association list\n",
                "mapp_new_p = cat_apply_freq(mappings[\"to_new\"], freqs)\n",
                "\n",
                "# mappings for a specific category\n",
                "print(mappings[\"to_new\"]['3481'])\n",
                "# probability mappings for a specific category\n",
                "print(mapp_new_p['3481'])"
            ]
        },
        {
            "cell_type": "markdown",
            "metadata": {},
            "source": [
                "### cat2cat procedure - one iteration"
            ]
        },
        {
            "cell_type": "code",
            "execution_count": null,
            "metadata": {},
            "outputs": [],
            "source": [
                "from cat2cat import cat2cat\n",
                "from cat2cat.dataclass import cat2cat_data, cat2cat_mappings, cat2cat_ml\n",
                "\n",
                "from pandas import concat"
            ]
        },
        {
            "cell_type": "code",
            "execution_count": null,
            "metadata": {},
            "outputs": [],
            "source": [
                "# split the panel by the time variale\n",
                "# here only two periods\n",
                "o_old = occup.loc[occup.year == 2008, :].copy()\n",
                "o_new = occup.loc[occup.year == 2010, :].copy()\n",
                "\n",
                "# dataclasses, two core arguments for the cat2cat function\n",
                "data = cat2cat_data(\n",
                "    old = o_old, \n",
                "    new = o_new, \n",
                "    cat_var_old = \"code\", \n",
                "    cat_var_new = \"code\", \n",
                "    time_var = \"year\"\n",
                ")\n",
                "mappings = cat2cat_mappings(trans = trans, direction = \"backward\")\n",
                "\n",
                "# apply the cat2cat procedure\n",
                "c2c = cat2cat(data = data, mappings = mappings)\n",
                "# pandas.concat used to bind per period datasets\n",
                "data_final = concat([c2c[\"old\"], c2c[\"new\"]])\n",
                "\n",
                "sub_cols = [\"id\", \"edu\", \"code\", \"year\", \"index_c2c\", \"g_new_c2c\", \"rep_c2c\", \"wei_naive_c2c\", \"wei_freq_c2c\"]\n",
                "data_final.groupby([\"year\"]).sample(5).loc[:, sub_cols]"
            ]
        },
        {
            "cell_type": "markdown",
            "metadata": {},
            "source": [
                "### With ML"
            ]
        },
        {
            "cell_type": "code",
            "execution_count": null,
            "metadata": {},
            "outputs": [],
            "source": [
                "from sklearn.neighbors import KNeighborsClassifier\n",
                "\n",
                "# ml dataclass, one of the arguments for the cat2cat function\n",
                "ml = cat2cat_ml(\n",
                "    data = o_new, \n",
                "    cat_var = \"code\", \n",
                "    features = [\"salary\", \"age\", \"edu\"], \n",
                "    models = [KNeighborsClassifier()]\n",
                ")\n",
                "\n",
                "# apply the cat2cat procedure\n",
                "c2c = cat2cat(data = data, mappings = mappings, ml = ml)\n",
                "# pandas.concat used to bind per period datasets\n",
                "data_final = concat([c2c[\"old\"], c2c[\"new\"]])\n",
                "\n",
                "sub_cols = [\"id\", \"year\", \"wei_naive_c2c\", \"wei_freq_c2c\", \"wei_KNeighborsClassifier_c2c\"]\n",
                "data_final.groupby([\"year\"]).sample(3).loc[:, sub_cols]"
            ]
        },
        {
            "cell_type": "markdown",
            "metadata": {},
            "source": [
                "With 4 periods, one mapping table and backward direction:"
            ]
        },
        {
            "cell_type": "code",
            "execution_count": null,
            "metadata": {},
            "outputs": [],
            "source": [
                "from cat2cat.cat2cat_utils import dummy_c2c\n",
                "\n",
                "# split the panel by the time variale\n",
                "# here four periods\n",
                "o_2006 = occup.loc[occup.year == 2006, :].copy()\n",
                "o_2008 = occup.loc[occup.year == 2008, :].copy()\n",
                "o_2010 = occup.loc[occup.year == 2010, :].copy()\n",
                "o_2012 = occup.loc[occup.year == 2012, :].copy()\n",
                "\n",
                "# dataclasses, two core arguments for the cat2cat function\n",
                "data = cat2cat_data(\n",
                "    old = o_2008, \n",
                "    new = o_2010, \n",
                "    cat_var_old = \"code\", \n",
                "    cat_var_new = \"code\", \n",
                "    time_var = \"year\"\n",
                ")\n",
                "mappings = cat2cat_mappings(trans = trans, direction = \"backward\")\n",
                "\n",
                "# apply the cat2cat procedure\n",
                "occup_back_2008_2010 = cat2cat(data = data, mappings = mappings)\n",
                "\n",
                "# updated for the next iteration data cat2cat argument\n",
                "data = cat2cat_data(\n",
                "    old = o_2006, \n",
                "    new = occup_back_2008_2010[\"old\"], \n",
                "    cat_var_old = \"code\", \n",
                "    cat_var_new = \"g_new_c2c\", \n",
                "    time_var = \"year\"\n",
                ")\n",
                "\n",
                "# apply the cat2cat procedure\n",
                "occup_back_2006_2008 = cat2cat(data = data, mappings = mappings)\n",
                "\n",
                "# gather the datasets for each period\n",
                "o_2006_n = occup_back_2006_2008[\"old\"]\n",
                "o_2008_n = occup_back_2006_2008[\"new\"] # or occup_back_2008_2010[\"old\"]\n",
                "o_2010_n = occup_back_2008_2010[\"new\"]\n",
                "o_2012_n = dummy_c2c(o_2012, \"code\")\n",
                "\n",
                "# pandas.concat used to bind per period datasets\n",
                "data_final = concat([o_2006_n, o_2008_n, o_2010_n, o_2012_n])\n",
                "\n",
                "sub_cols = [\"id\", \"edu\", \"code\", \"year\", \"index_c2c\",\n",
                " \"g_new_c2c\", \"rep_c2c\", \"wei_naive_c2c\", \"wei_freq_c2c\"]\n",
                "data_final.groupby([\"year\"]).sample(2).loc[:, sub_cols]"
            ]
        },
        {
            "cell_type": "markdown",
            "metadata": {},
            "source": [
                "#### Prune - prune_c2c"
            ]
        },
        {
            "cell_type": "markdown",
            "metadata": {},
            "source": [
                "Pruning which could be useful after the mapping process, the custom prune_fun is provided by the end user.\n",
                "The prune_fun is a function to process a 1D-array of weights (float) and return a 1D-array of boolean of the same length. The weighs will be reweighted automatically to still to sum to one per each original observation.\n",
                "\n",
                "- non-zero - lambda x: x > 0\n",
                "- highest1 - lambda x: arange(len(x)) == argmax(x)\n",
                "- highest - lambda x: x == max(x)"
            ]
        },
        {
            "cell_type": "code",
            "execution_count": null,
            "metadata": {},
            "outputs": [],
            "source": [
                "from cat2cat.cat2cat_utils import prune_c2c\n",
                "from numpy import arange, argmax\n",
                "\n",
                "# prune_c2c\n",
                "# highest1 leave only one observation with the highest probability for each orginal one\n",
                "(o_2006_n.shape[0], \n",
                " prune_c2c(o_2006_n, lambda x: arange(len(x)) == argmax(x)).shape[0])"
            ]
        },
        {
            "cell_type": "markdown",
            "metadata": {},
            "source": [
                "### Direct match"
            ]
        },
        {
            "cell_type": "markdown",
            "metadata": {},
            "source": [
                "It is important to set the `id_var` argument as then we merging categories 1 to 1\n",
                "for this identifier which exists in both periods."
            ]
        },
        {
            "cell_type": "code",
            "execution_count": null,
            "metadata": {},
            "outputs": [],
            "source": [
                "# split the panel by the time variale\n",
                "vert_old = verticals.loc[verticals[\"v_date\"] == \"2020-04-01\", :]\n",
                "vert_new = verticals.loc[verticals[\"v_date\"] == \"2020-05-01\", :]\n",
                "\n",
                "## extract mapping (transition) table from data using identifier\n",
                "trans_v = vert_old.merge(vert_new, on = \"ean\", how = \"inner\")\\\n",
                ".loc[:, [\"vertical_x\", \"vertical_y\"]]\\\n",
                ".drop_duplicates()"
            ]
        },
        {
            "cell_type": "code",
            "execution_count": null,
            "metadata": {},
            "outputs": [],
            "source": [
                "# dataclasses, two core arguments for the cat2cat function\n",
                "data = cat2cat_data(\n",
                "  old = vert_old, \n",
                "  new = vert_new, \n",
                "  id_var = \"ean\", \n",
                "  cat_var_old = \"vertical\", \n",
                "  cat_var_new = \"vertical\", \n",
                "  time_var = \"v_date\"\n",
                ")\n",
                "mappings = cat2cat_mappings(trans = trans_v, direction = \"backward\")\n",
                "\n",
                "# apply the cat2cat procedure\n",
                "verts = cat2cat(\n",
                "  data = data,\n",
                "  mappings = mappings\n",
                ")\n",
                "\n",
                "# pandas.concat used to bind per period datasets\n",
                "data_final = concat([verts[\"old\"], verts[\"new\"]])"
            ]
        },
        {
            "cell_type": "markdown",
            "metadata": {},
            "source": [
                "### Direct match with ML"
            ]
        },
        {
            "cell_type": "code",
            "execution_count": null,
            "metadata": {},
            "outputs": [],
            "source": [
                "# ml dataclass, one of the arguments for the cat2cat function\n",
                "ml = cat2cat_ml(\n",
                "    data = vert_old, \n",
                "    cat_var = \"vertical\", \n",
                "    features = [\"sales\"], \n",
                "    models = [KNeighborsClassifier()]\n",
                ")\n",
                "\n",
                "# apply the cat2cat procedure\n",
                "verts_ml = cat2cat(\n",
                "  data = data,\n",
                "  mappings = mappings,\n",
                "  ml = ml\n",
                ")\n",
                "\n",
                "# pandas.concat used to bind per period datasets\n",
                "data_final = concat([verts_ml[\"old\"], verts_ml[\"new\"]])"
            ]
        }
    ],
    "metadata": {
        "kernelspec": {
            "display_name": "Python 3.10.6 ('.venv': poetry)",
            "language": "python",
            "name": "python3"
        },
        "language_info": {
            "codemirror_mode": {
                "name": "ipython",
                "version": 3
            },
            "file_extension": ".py",
            "mimetype": "text/x-python",
            "name": "python",
            "nbconvert_exporter": "python",
            "pygments_lexer": "ipython3",
            "version": "3.10.6"
        },
        "vscode": {
            "interpreter": {
                "hash": "4d03c0596c3b959c81b29ef0685c029c97abeebc025b647cb9a87b20e91929f4"
            }
        }
    },
    "nbformat": 4,
    "nbformat_minor": 4
}
