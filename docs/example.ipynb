{
    "cells": [
        {
            "cell_type": "markdown",
            "metadata": {},
            "source": [
                "# Example usage\n",
                "\n",
                "To use `cat2cat` in a project:"
            ]
        },
        {
            "cell_type": "markdown",
            "metadata": {},
            "source": [
                "### Load data"
            ]
        },
        {
            "cell_type": "code",
            "execution_count": 1,
            "metadata": {},
            "outputs": [
                {
                    "name": "stdout",
                    "output_type": "stream",
                    "text": [
                        "/Users/maciejnasinski/python/cat2cat/src/cat2cat/data/trans.csv\n",
                        "/Users/maciejnasinski/python/cat2cat/src/cat2cat/data/occup.pkl\n"
                    ]
                }
            ],
            "source": [
                "# cat2cat datasets\n",
                "from cat2cat.datasets import load_trans, load_occup\n",
                "trans = load_trans()\n",
                "occup = load_occup()"
            ]
        },
        {
            "cell_type": "markdown",
            "metadata": {},
            "source": [
                "### Low-level functions"
            ]
        },
        {
            "cell_type": "code",
            "execution_count": 2,
            "metadata": {},
            "outputs": [
                {
                    "name": "stdout",
                    "output_type": "stream",
                    "text": [
                        "/Users/maciejnasinski/python/cat2cat/src/cat2cat/data/occup.pkl\n"
                    ]
                },
                {
                    "data": {
                        "text/plain": [
                            "(['441401', '441402', '441403', '441490'], [0.0, 0.6, 0.0, 0.4])"
                        ]
                    },
                    "execution_count": 2,
                    "metadata": {},
                    "output_type": "execute_result"
                }
            ],
            "source": [
                "\n",
                "# Low-level functions\n",
                "from cat2cat.mappings import get_mappings, get_freqs, cat_apply_freq\n",
                "\n",
                "\n",
                "mappings = get_mappings(trans)\n",
                "occup = load_occup()\n",
                "codes_new = occup.code[occup.year == 2010].map(str).values\n",
                "freqs = get_freqs(codes_new)\n",
                "mapp_new_p = cat_apply_freq(mappings[\"to_new\"], freqs)\n",
                "# base period mappings and their frequencies probabilities\n",
                "(mappings[\"to_new\"]['3481'], mapp_new_p['3481'])"
            ]
        },
        {
            "cell_type": "markdown",
            "metadata": {},
            "source": [
                "### cat2cat procedure"
            ]
        },
        {
            "cell_type": "code",
            "execution_count": 3,
            "metadata": {},
            "outputs": [
                {
                    "data": {
                        "text/html": [
                            "<div>\n",
                            "<style scoped>\n",
                            "    .dataframe tbody tr th:only-of-type {\n",
                            "        vertical-align: middle;\n",
                            "    }\n",
                            "\n",
                            "    .dataframe tbody tr th {\n",
                            "        vertical-align: top;\n",
                            "    }\n",
                            "\n",
                            "    .dataframe thead th {\n",
                            "        text-align: right;\n",
                            "    }\n",
                            "</style>\n",
                            "<table border=\"1\" class=\"dataframe\">\n",
                            "  <thead>\n",
                            "    <tr style=\"text-align: right;\">\n",
                            "      <th></th>\n",
                            "      <th>id</th>\n",
                            "      <th>age</th>\n",
                            "      <th>sex</th>\n",
                            "      <th>edu</th>\n",
                            "      <th>exp</th>\n",
                            "      <th>district</th>\n",
                            "      <th>parttime</th>\n",
                            "      <th>salary</th>\n",
                            "      <th>code</th>\n",
                            "      <th>multiplier</th>\n",
                            "      <th>year</th>\n",
                            "      <th>code4</th>\n",
                            "      <th>index_c2c</th>\n",
                            "      <th>g_new_c2c</th>\n",
                            "      <th>rep_c2c</th>\n",
                            "      <th>wei_naive_c2c</th>\n",
                            "      <th>wei_freq_c2c</th>\n",
                            "    </tr>\n",
                            "  </thead>\n",
                            "  <tbody>\n",
                            "    <tr>\n",
                            "      <th>37880</th>\n",
                            "      <td>37881</td>\n",
                            "      <td>35.081697</td>\n",
                            "      <td>True</td>\n",
                            "      <td>4</td>\n",
                            "      <td>11.501697</td>\n",
                            "      <td>14</td>\n",
                            "      <td>1.000000</td>\n",
                            "      <td>38956.635541</td>\n",
                            "      <td>432103</td>\n",
                            "      <td>620.721854</td>\n",
                            "      <td>2010</td>\n",
                            "      <td>4321</td>\n",
                            "      <td>4117</td>\n",
                            "      <td>432103</td>\n",
                            "      <td>1</td>\n",
                            "      <td>1.000000</td>\n",
                            "      <td>1.000000</td>\n",
                            "    </tr>\n",
                            "    <tr>\n",
                            "      <th>31277</th>\n",
                            "      <td>31278</td>\n",
                            "      <td>29.404688</td>\n",
                            "      <td>True</td>\n",
                            "      <td>1</td>\n",
                            "      <td>2.574688</td>\n",
                            "      <td>17</td>\n",
                            "      <td>0.333333</td>\n",
                            "      <td>7271.857350</td>\n",
                            "      <td>3119</td>\n",
                            "      <td>381.534500</td>\n",
                            "      <td>2008</td>\n",
                            "      <td>3119</td>\n",
                            "      <td>196609</td>\n",
                            "      <td>311901</td>\n",
                            "      <td>33</td>\n",
                            "      <td>0.030303</td>\n",
                            "      <td>0.000000</td>\n",
                            "    </tr>\n",
                            "    <tr>\n",
                            "      <th>20643</th>\n",
                            "      <td>20644</td>\n",
                            "      <td>29.474568</td>\n",
                            "      <td>False</td>\n",
                            "      <td>1</td>\n",
                            "      <td>5.144568</td>\n",
                            "      <td>6</td>\n",
                            "      <td>0.183333</td>\n",
                            "      <td>4918.169395</td>\n",
                            "      <td>2321</td>\n",
                            "      <td>533.942083</td>\n",
                            "      <td>2008</td>\n",
                            "      <td>2321</td>\n",
                            "      <td>55456</td>\n",
                            "      <td>233012</td>\n",
                            "      <td>34</td>\n",
                            "      <td>0.029412</td>\n",
                            "      <td>0.119666</td>\n",
                            "    </tr>\n",
                            "    <tr>\n",
                            "      <th>33164</th>\n",
                            "      <td>33165</td>\n",
                            "      <td>58.755668</td>\n",
                            "      <td>True</td>\n",
                            "      <td>6</td>\n",
                            "      <td>39.505668</td>\n",
                            "      <td>17</td>\n",
                            "      <td>0.500000</td>\n",
                            "      <td>13541.599624</td>\n",
                            "      <td>5159</td>\n",
                            "      <td>505.933189</td>\n",
                            "      <td>2008</td>\n",
                            "      <td>5159</td>\n",
                            "      <td>220297</td>\n",
                            "      <td>541908</td>\n",
                            "      <td>23</td>\n",
                            "      <td>0.043478</td>\n",
                            "      <td>0.000000</td>\n",
                            "    </tr>\n",
                            "    <tr>\n",
                            "      <th>26742</th>\n",
                            "      <td>26743</td>\n",
                            "      <td>65.973851</td>\n",
                            "      <td>False</td>\n",
                            "      <td>1</td>\n",
                            "      <td>47.973851</td>\n",
                            "      <td>2</td>\n",
                            "      <td>1.000000</td>\n",
                            "      <td>57177.518505</td>\n",
                            "      <td>1211</td>\n",
                            "      <td>321.174403</td>\n",
                            "      <td>2008</td>\n",
                            "      <td>1211</td>\n",
                            "      <td>136440</td>\n",
                            "      <td>112007</td>\n",
                            "      <td>4</td>\n",
                            "      <td>0.250000</td>\n",
                            "      <td>0.400000</td>\n",
                            "    </tr>\n",
                            "  </tbody>\n",
                            "</table>\n",
                            "</div>"
                        ],
                        "text/plain": [
                            "          id        age    sex  edu        exp  district  parttime  \\\n",
                            "37880  37881  35.081697   True    4  11.501697        14  1.000000   \n",
                            "31277  31278  29.404688   True    1   2.574688        17  0.333333   \n",
                            "20643  20644  29.474568  False    1   5.144568         6  0.183333   \n",
                            "33164  33165  58.755668   True    6  39.505668        17  0.500000   \n",
                            "26742  26743  65.973851  False    1  47.973851         2  1.000000   \n",
                            "\n",
                            "             salary    code  multiplier  year code4  index_c2c g_new_c2c  \\\n",
                            "37880  38956.635541  432103  620.721854  2010  4321       4117    432103   \n",
                            "31277   7271.857350    3119  381.534500  2008  3119     196609    311901   \n",
                            "20643   4918.169395    2321  533.942083  2008  2321      55456    233012   \n",
                            "33164  13541.599624    5159  505.933189  2008  5159     220297    541908   \n",
                            "26742  57177.518505    1211  321.174403  2008  1211     136440    112007   \n",
                            "\n",
                            "       rep_c2c  wei_naive_c2c  wei_freq_c2c  \n",
                            "37880        1       1.000000      1.000000  \n",
                            "31277       33       0.030303      0.000000  \n",
                            "20643       34       0.029412      0.119666  \n",
                            "33164       23       0.043478      0.000000  \n",
                            "26742        4       0.250000      0.400000  "
                        ]
                    },
                    "execution_count": 3,
                    "metadata": {},
                    "output_type": "execute_result"
                }
            ],
            "source": [
                "from cat2cat import cat2cat\n",
                "from cat2cat.dataclass import cat2cat_data, cat2cat_mappings, cat2cat_ml\n",
                "\n",
                "from pandas import DataFrame, concat\n",
                "from sklearn.ensemble import RandomForestClassifier\n",
                "\n",
                "o_2006 = occup.loc[occup.year == 2006, :].copy()\n",
                "o_2008 = o_old = occup.loc[occup.year == 2008, :].copy()\n",
                "o_2010 = o_new = occup.loc[occup.year == 2010, :].copy()\n",
                "o_2012 = occup.loc[occup.year == 2012, :].copy()\n",
                "\n",
                "data = cat2cat_data(o_old, o_new, \"code\", \"code\", \"year\")\n",
                "mappings = cat2cat_mappings(trans, \"backward\")\n",
                "ml = cat2cat_ml(o_new, \"code\", [\"salary\", \"age\"], [RandomForestClassifier()])\n",
                "\n",
                "res = cat2cat(data, mappings, ml)\n",
                "data_final = concat([res[\"old\"], res[\"new\"]])\n",
                "data_final.sample(5)"
            ]
        },
        {
            "cell_type": "code",
            "execution_count": null,
            "metadata": {},
            "outputs": [],
            "source": []
        }
    ],
    "metadata": {
        "kernelspec": {
            "display_name": "Python 3.10.6 ('.venv': poetry)",
            "language": "python",
            "name": "python3"
        },
        "language_info": {
            "codemirror_mode": {
                "name": "ipython",
                "version": 3
            },
            "file_extension": ".py",
            "mimetype": "text/x-python",
            "name": "python",
            "nbconvert_exporter": "python",
            "pygments_lexer": "ipython3",
            "version": "3.10.6"
        },
        "vscode": {
            "interpreter": {
                "hash": "4d03c0596c3b959c81b29ef0685c029c97abeebc025b647cb9a87b20e91929f4"
            }
        }
    },
    "nbformat": 4,
    "nbformat_minor": 4
}
