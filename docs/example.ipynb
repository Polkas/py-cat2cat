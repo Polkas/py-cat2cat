{
    "cells": [
        {
            "cell_type": "markdown",
            "metadata": {},
            "source": [
                "# Example usage\n",
                "\n",
                "To use `cat2cat` in a project:"
            ]
        },
        {
            "cell_type": "markdown",
            "metadata": {},
            "source": [
                "### Load data"
            ]
        },
        {
            "cell_type": "code",
            "execution_count": 1,
            "metadata": {},
            "outputs": [],
            "source": [
                "# cat2cat datasets\n",
                "from cat2cat.datasets import load_trans, load_occup\n",
                "trans = load_trans()\n",
                "occup = load_occup()"
            ]
        },
        {
            "cell_type": "markdown",
            "metadata": {},
            "source": [
                "### Low-level functions"
            ]
        },
        {
            "cell_type": "code",
            "execution_count": 2,
            "metadata": {},
            "outputs": [
                {
                    "data": {
                        "text/plain": [
                            "(['441401', '441402', '441403', '441490'], [0.0, 0.6, 0.0, 0.4])"
                        ]
                    },
                    "execution_count": 2,
                    "metadata": {},
                    "output_type": "execute_result"
                }
            ],
            "source": [
                "\n",
                "# Low-level functions\n",
                "from cat2cat.mappings import get_mappings, get_freqs, cat_apply_freq\n",
                "\n",
                "\n",
                "mappings = get_mappings(trans)\n",
                "codes_new = occup.code[occup.year == 2010].map(str).values\n",
                "freqs = get_freqs(codes_new)\n",
                "mapp_new_p = cat_apply_freq(mappings[\"to_new\"], freqs)\n",
                "# base period mappings and their frequencies probabilities\n",
                "(mappings[\"to_new\"]['3481'], mapp_new_p['3481'])"
            ]
        },
        {
            "cell_type": "markdown",
            "metadata": {},
            "source": [
                "### cat2cat procedure"
            ]
        },
        {
            "cell_type": "code",
            "execution_count": 3,
            "metadata": {},
            "outputs": [
                {
                    "data": {
                        "text/html": [
                            "<div>\n",
                            "<style scoped>\n",
                            "    .dataframe tbody tr th:only-of-type {\n",
                            "        vertical-align: middle;\n",
                            "    }\n",
                            "\n",
                            "    .dataframe tbody tr th {\n",
                            "        vertical-align: top;\n",
                            "    }\n",
                            "\n",
                            "    .dataframe thead th {\n",
                            "        text-align: right;\n",
                            "    }\n",
                            "</style>\n",
                            "<table border=\"1\" class=\"dataframe\">\n",
                            "  <thead>\n",
                            "    <tr style=\"text-align: right;\">\n",
                            "      <th></th>\n",
                            "      <th>id</th>\n",
                            "      <th>edu</th>\n",
                            "      <th>code</th>\n",
                            "      <th>year</th>\n",
                            "      <th>index_c2c</th>\n",
                            "      <th>g_new_c2c</th>\n",
                            "      <th>rep_c2c</th>\n",
                            "      <th>wei_naive_c2c</th>\n",
                            "      <th>wei_freq_c2c</th>\n",
                            "    </tr>\n",
                            "  </thead>\n",
                            "  <tbody>\n",
                            "    <tr>\n",
                            "      <th>70997</th>\n",
                            "      <td>21733</td>\n",
                            "      <td>1</td>\n",
                            "      <td>2321</td>\n",
                            "      <td>2008</td>\n",
                            "      <td>70997</td>\n",
                            "      <td>233001</td>\n",
                            "      <td>34</td>\n",
                            "      <td>0.029412</td>\n",
                            "      <td>0.039889</td>\n",
                            "    </tr>\n",
                            "    <tr>\n",
                            "      <th>53635</th>\n",
                            "      <td>20505</td>\n",
                            "      <td>4</td>\n",
                            "      <td>3115</td>\n",
                            "      <td>2008</td>\n",
                            "      <td>53635</td>\n",
                            "      <td>311512</td>\n",
                            "      <td>13</td>\n",
                            "      <td>0.076923</td>\n",
                            "      <td>0.000000</td>\n",
                            "    </tr>\n",
                            "    <tr>\n",
                            "      <th>211310</th>\n",
                            "      <td>32476</td>\n",
                            "      <td>2</td>\n",
                            "      <td>2321</td>\n",
                            "      <td>2008</td>\n",
                            "      <td>211310</td>\n",
                            "      <td>233003</td>\n",
                            "      <td>34</td>\n",
                            "      <td>0.029412</td>\n",
                            "      <td>0.000928</td>\n",
                            "    </tr>\n",
                            "    <tr>\n",
                            "      <th>185096</th>\n",
                            "      <td>30444</td>\n",
                            "      <td>6</td>\n",
                            "      <td>7415</td>\n",
                            "      <td>2008</td>\n",
                            "      <td>185096</td>\n",
                            "      <td>751505</td>\n",
                            "      <td>6</td>\n",
                            "      <td>0.166667</td>\n",
                            "      <td>0.166667</td>\n",
                            "    </tr>\n",
                            "    <tr>\n",
                            "      <th>107709</th>\n",
                            "      <td>24437</td>\n",
                            "      <td>6</td>\n",
                            "      <td>7242</td>\n",
                            "      <td>2008</td>\n",
                            "      <td>107709</td>\n",
                            "      <td>741220</td>\n",
                            "      <td>16</td>\n",
                            "      <td>0.062500</td>\n",
                            "      <td>0.006579</td>\n",
                            "    </tr>\n",
                            "    <tr>\n",
                            "      <th>43103</th>\n",
                            "      <td>43104</td>\n",
                            "      <td>3</td>\n",
                            "      <td>432303</td>\n",
                            "      <td>2010</td>\n",
                            "      <td>9340</td>\n",
                            "      <td>432303</td>\n",
                            "      <td>1</td>\n",
                            "      <td>1.000000</td>\n",
                            "      <td>1.000000</td>\n",
                            "    </tr>\n",
                            "    <tr>\n",
                            "      <th>50782</th>\n",
                            "      <td>50783</td>\n",
                            "      <td>1</td>\n",
                            "      <td>232003</td>\n",
                            "      <td>2010</td>\n",
                            "      <td>17019</td>\n",
                            "      <td>232003</td>\n",
                            "      <td>1</td>\n",
                            "      <td>1.000000</td>\n",
                            "      <td>1.000000</td>\n",
                            "    </tr>\n",
                            "    <tr>\n",
                            "      <th>46563</th>\n",
                            "      <td>46564</td>\n",
                            "      <td>1</td>\n",
                            "      <td>227101</td>\n",
                            "      <td>2010</td>\n",
                            "      <td>12800</td>\n",
                            "      <td>227101</td>\n",
                            "      <td>1</td>\n",
                            "      <td>1.000000</td>\n",
                            "      <td>1.000000</td>\n",
                            "    </tr>\n",
                            "    <tr>\n",
                            "      <th>45265</th>\n",
                            "      <td>45266</td>\n",
                            "      <td>1</td>\n",
                            "      <td>132103</td>\n",
                            "      <td>2010</td>\n",
                            "      <td>11502</td>\n",
                            "      <td>132103</td>\n",
                            "      <td>1</td>\n",
                            "      <td>1.000000</td>\n",
                            "      <td>1.000000</td>\n",
                            "    </tr>\n",
                            "    <tr>\n",
                            "      <th>39614</th>\n",
                            "      <td>39615</td>\n",
                            "      <td>3</td>\n",
                            "      <td>333101</td>\n",
                            "      <td>2010</td>\n",
                            "      <td>5851</td>\n",
                            "      <td>333101</td>\n",
                            "      <td>1</td>\n",
                            "      <td>1.000000</td>\n",
                            "      <td>1.000000</td>\n",
                            "    </tr>\n",
                            "  </tbody>\n",
                            "</table>\n",
                            "</div>"
                        ],
                        "text/plain": [
                            "           id  edu    code  year  index_c2c g_new_c2c  rep_c2c  wei_naive_c2c  \\\n",
                            "70997   21733    1    2321  2008      70997    233001       34       0.029412   \n",
                            "53635   20505    4    3115  2008      53635    311512       13       0.076923   \n",
                            "211310  32476    2    2321  2008     211310    233003       34       0.029412   \n",
                            "185096  30444    6    7415  2008     185096    751505        6       0.166667   \n",
                            "107709  24437    6    7242  2008     107709    741220       16       0.062500   \n",
                            "43103   43104    3  432303  2010       9340    432303        1       1.000000   \n",
                            "50782   50783    1  232003  2010      17019    232003        1       1.000000   \n",
                            "46563   46564    1  227101  2010      12800    227101        1       1.000000   \n",
                            "45265   45266    1  132103  2010      11502    132103        1       1.000000   \n",
                            "39614   39615    3  333101  2010       5851    333101        1       1.000000   \n",
                            "\n",
                            "        wei_freq_c2c  \n",
                            "70997       0.039889  \n",
                            "53635       0.000000  \n",
                            "211310      0.000928  \n",
                            "185096      0.166667  \n",
                            "107709      0.006579  \n",
                            "43103       1.000000  \n",
                            "50782       1.000000  \n",
                            "46563       1.000000  \n",
                            "45265       1.000000  \n",
                            "39614       1.000000  "
                        ]
                    },
                    "execution_count": 3,
                    "metadata": {},
                    "output_type": "execute_result"
                }
            ],
            "source": [
                "from cat2cat import cat2cat\n",
                "from cat2cat.dataclass import cat2cat_data, cat2cat_mappings, cat2cat_ml\n",
                "\n",
                "from pandas import DataFrame, concat\n",
                "\n",
                "o_2006 = occup.loc[occup.year == 2006, :].copy()\n",
                "o_2008 = o_old = occup.loc[occup.year == 2008, :].copy()\n",
                "o_2010 = o_new = occup.loc[occup.year == 2010, :].copy()\n",
                "o_2012 = occup.loc[occup.year == 2012, :].copy()\n",
                "\n",
                "data = cat2cat_data(o_old, o_new, \"code\", \"code\", \"year\")\n",
                "mappings = cat2cat_mappings(trans, \"backward\")\n",
                "\n",
                "res = cat2cat(data, mappings)\n",
                "\n",
                "data_final = concat([res[\"old\"], res[\"new\"]])\n",
                "sub_cols = [\"id\", \"edu\", \"code\", \"year\", \"index_c2c\", \"g_new_c2c\", \"rep_c2c\", \"wei_naive_c2c\", \"wei_freq_c2c\"]\n",
                "data_final.groupby([\"year\"]).sample(5).loc[:, sub_cols]"
            ]
        },
        {
            "cell_type": "markdown",
            "metadata": {},
            "source": [
                "### With ML"
            ]
        },
        {
            "cell_type": "code",
            "execution_count": 4,
            "metadata": {},
            "outputs": [],
            "source": [
                "from sklearn.neighbors import KNeighborsClassifier\n",
                "ml = cat2cat_ml(o_new, \"code\", [\"salary\", \"age\"], [KNeighborsClassifier()])\n",
                "\n",
                "# cat2cat"
            ]
        }
    ],
    "metadata": {
        "kernelspec": {
            "display_name": "Python 3.10.6 ('.venv': poetry)",
            "language": "python",
            "name": "python3"
        },
        "language_info": {
            "codemirror_mode": {
                "name": "ipython",
                "version": 3
            },
            "file_extension": ".py",
            "mimetype": "text/x-python",
            "name": "python",
            "nbconvert_exporter": "python",
            "pygments_lexer": "ipython3",
            "version": "3.10.6"
        },
        "vscode": {
            "interpreter": {
                "hash": "4d03c0596c3b959c81b29ef0685c029c97abeebc025b647cb9a87b20e91929f4"
            }
        }
    },
    "nbformat": 4,
    "nbformat_minor": 4
}
