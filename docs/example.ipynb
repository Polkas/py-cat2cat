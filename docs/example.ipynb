{
    "cells": [
        {
            "cell_type": "markdown",
            "metadata": {},
            "source": [
                "# Example usage\n",
                "\n",
                "To use `cat2cat` in a project:"
            ]
        },
        {
            "cell_type": "markdown",
            "metadata": {},
            "source": [
                "### Load data"
            ]
        },
        {
            "cell_type": "code",
            "execution_count": 21,
            "metadata": {},
            "outputs": [],
            "source": [
                "# cat2cat datasets\n",
                "from cat2cat.datasets import load_trans, load_occup\n",
                "trans = load_trans()\n",
                "occup = load_occup()"
            ]
        },
        {
            "cell_type": "markdown",
            "metadata": {},
            "source": [
                "### Low-level functions"
            ]
        },
        {
            "cell_type": "code",
            "execution_count": 22,
            "metadata": {},
            "outputs": [
                {
                    "data": {
                        "text/plain": [
                            "(['441401', '441402', '441403', '441490'], [0.0, 0.6, 0.0, 0.4])"
                        ]
                    },
                    "execution_count": 22,
                    "metadata": {},
                    "output_type": "execute_result"
                }
            ],
            "source": [
                "\n",
                "# Low-level functions\n",
                "from cat2cat.mappings import get_mappings, get_freqs, cat_apply_freq\n",
                "\n",
                "\n",
                "mappings = get_mappings(trans)\n",
                "codes_new = occup.code[occup.year == 2010].map(str).values\n",
                "freqs = get_freqs(codes_new)\n",
                "mapp_new_p = cat_apply_freq(mappings[\"to_new\"], freqs)\n",
                "# base period mappings and their frequencies probabilities\n",
                "(mappings[\"to_new\"]['3481'], mapp_new_p['3481'])"
            ]
        },
        {
            "cell_type": "markdown",
            "metadata": {},
            "source": [
                "### cat2cat procedure"
            ]
        },
        {
            "cell_type": "code",
            "execution_count": 23,
            "metadata": {},
            "outputs": [
                {
                    "data": {
                        "text/html": [
                            "<div>\n",
                            "<style scoped>\n",
                            "    .dataframe tbody tr th:only-of-type {\n",
                            "        vertical-align: middle;\n",
                            "    }\n",
                            "\n",
                            "    .dataframe tbody tr th {\n",
                            "        vertical-align: top;\n",
                            "    }\n",
                            "\n",
                            "    .dataframe thead th {\n",
                            "        text-align: right;\n",
                            "    }\n",
                            "</style>\n",
                            "<table border=\"1\" class=\"dataframe\">\n",
                            "  <thead>\n",
                            "    <tr style=\"text-align: right;\">\n",
                            "      <th></th>\n",
                            "      <th>id</th>\n",
                            "      <th>edu</th>\n",
                            "      <th>code</th>\n",
                            "      <th>year</th>\n",
                            "      <th>index_c2c</th>\n",
                            "      <th>g_new_c2c</th>\n",
                            "      <th>rep_c2c</th>\n",
                            "      <th>wei_naive_c2c</th>\n",
                            "      <th>wei_freq_c2c</th>\n",
                            "    </tr>\n",
                            "  </thead>\n",
                            "  <tbody>\n",
                            "    <tr>\n",
                            "      <th>222634</th>\n",
                            "      <td>33349</td>\n",
                            "      <td>6</td>\n",
                            "      <td>7121</td>\n",
                            "      <td>2008</td>\n",
                            "      <td>222634</td>\n",
                            "      <td>711201</td>\n",
                            "      <td>4</td>\n",
                            "      <td>0.250000</td>\n",
                            "      <td>0.035714</td>\n",
                            "    </tr>\n",
                            "    <tr>\n",
                            "      <th>108644</th>\n",
                            "      <td>24494</td>\n",
                            "      <td>3</td>\n",
                            "      <td>2242</td>\n",
                            "      <td>2008</td>\n",
                            "      <td>108644</td>\n",
                            "      <td>223290</td>\n",
                            "      <td>9</td>\n",
                            "      <td>0.111111</td>\n",
                            "      <td>0.018182</td>\n",
                            "    </tr>\n",
                            "    <tr>\n",
                            "      <th>123520</th>\n",
                            "      <td>25750</td>\n",
                            "      <td>6</td>\n",
                            "      <td>9132</td>\n",
                            "      <td>2008</td>\n",
                            "      <td>123520</td>\n",
                            "      <td>941201</td>\n",
                            "      <td>18</td>\n",
                            "      <td>0.055556</td>\n",
                            "      <td>0.093144</td>\n",
                            "    </tr>\n",
                            "    <tr>\n",
                            "      <th>187485</th>\n",
                            "      <td>30627</td>\n",
                            "      <td>1</td>\n",
                            "      <td>2321</td>\n",
                            "      <td>2008</td>\n",
                            "      <td>187485</td>\n",
                            "      <td>233006</td>\n",
                            "      <td>34</td>\n",
                            "      <td>0.029412</td>\n",
                            "      <td>0.067718</td>\n",
                            "    </tr>\n",
                            "    <tr>\n",
                            "      <th>23236</th>\n",
                            "      <td>18140</td>\n",
                            "      <td>1</td>\n",
                            "      <td>2419</td>\n",
                            "      <td>2008</td>\n",
                            "      <td>23236</td>\n",
                            "      <td>242105</td>\n",
                            "      <td>46</td>\n",
                            "      <td>0.021739</td>\n",
                            "      <td>0.000000</td>\n",
                            "    </tr>\n",
                            "    <tr>\n",
                            "      <th>37447</th>\n",
                            "      <td>37448</td>\n",
                            "      <td>1</td>\n",
                            "      <td>235914</td>\n",
                            "      <td>2010</td>\n",
                            "      <td>3684</td>\n",
                            "      <td>235914</td>\n",
                            "      <td>1</td>\n",
                            "      <td>1.000000</td>\n",
                            "      <td>1.000000</td>\n",
                            "    </tr>\n",
                            "    <tr>\n",
                            "      <th>39214</th>\n",
                            "      <td>39215</td>\n",
                            "      <td>4</td>\n",
                            "      <td>411003</td>\n",
                            "      <td>2010</td>\n",
                            "      <td>5451</td>\n",
                            "      <td>411003</td>\n",
                            "      <td>1</td>\n",
                            "      <td>1.000000</td>\n",
                            "      <td>1.000000</td>\n",
                            "    </tr>\n",
                            "    <tr>\n",
                            "      <th>35735</th>\n",
                            "      <td>35736</td>\n",
                            "      <td>6</td>\n",
                            "      <td>522304</td>\n",
                            "      <td>2010</td>\n",
                            "      <td>1972</td>\n",
                            "      <td>522304</td>\n",
                            "      <td>1</td>\n",
                            "      <td>1.000000</td>\n",
                            "      <td>1.000000</td>\n",
                            "    </tr>\n",
                            "    <tr>\n",
                            "      <th>38611</th>\n",
                            "      <td>38612</td>\n",
                            "      <td>1</td>\n",
                            "      <td>112006</td>\n",
                            "      <td>2010</td>\n",
                            "      <td>4848</td>\n",
                            "      <td>112006</td>\n",
                            "      <td>1</td>\n",
                            "      <td>1.000000</td>\n",
                            "      <td>1.000000</td>\n",
                            "    </tr>\n",
                            "    <tr>\n",
                            "      <th>47756</th>\n",
                            "      <td>47757</td>\n",
                            "      <td>1</td>\n",
                            "      <td>234201</td>\n",
                            "      <td>2010</td>\n",
                            "      <td>13993</td>\n",
                            "      <td>234201</td>\n",
                            "      <td>1</td>\n",
                            "      <td>1.000000</td>\n",
                            "      <td>1.000000</td>\n",
                            "    </tr>\n",
                            "  </tbody>\n",
                            "</table>\n",
                            "</div>"
                        ],
                        "text/plain": [
                            "           id  edu    code  year  index_c2c g_new_c2c  rep_c2c  wei_naive_c2c  \\\n",
                            "222634  33349    6    7121  2008     222634    711201        4       0.250000   \n",
                            "108644  24494    3    2242  2008     108644    223290        9       0.111111   \n",
                            "123520  25750    6    9132  2008     123520    941201       18       0.055556   \n",
                            "187485  30627    1    2321  2008     187485    233006       34       0.029412   \n",
                            "23236   18140    1    2419  2008      23236    242105       46       0.021739   \n",
                            "37447   37448    1  235914  2010       3684    235914        1       1.000000   \n",
                            "39214   39215    4  411003  2010       5451    411003        1       1.000000   \n",
                            "35735   35736    6  522304  2010       1972    522304        1       1.000000   \n",
                            "38611   38612    1  112006  2010       4848    112006        1       1.000000   \n",
                            "47756   47757    1  234201  2010      13993    234201        1       1.000000   \n",
                            "\n",
                            "        wei_freq_c2c  \n",
                            "222634      0.035714  \n",
                            "108644      0.018182  \n",
                            "123520      0.093144  \n",
                            "187485      0.067718  \n",
                            "23236       0.000000  \n",
                            "37447       1.000000  \n",
                            "39214       1.000000  \n",
                            "35735       1.000000  \n",
                            "38611       1.000000  \n",
                            "47756       1.000000  "
                        ]
                    },
                    "execution_count": 23,
                    "metadata": {},
                    "output_type": "execute_result"
                }
            ],
            "source": [
                "from cat2cat import cat2cat\n",
                "from cat2cat.dataclass import cat2cat_data, cat2cat_mappings, cat2cat_ml\n",
                "\n",
                "from pandas import DataFrame, concat\n",
                "from sklearn.ensemble import RandomForestClassifier\n",
                "\n",
                "o_2006 = occup.loc[occup.year == 2006, :].copy()\n",
                "o_2008 = o_old = occup.loc[occup.year == 2008, :].copy()\n",
                "o_2010 = o_new = occup.loc[occup.year == 2010, :].copy()\n",
                "o_2012 = occup.loc[occup.year == 2012, :].copy()\n",
                "\n",
                "data = cat2cat_data(o_old, o_new, \"code\", \"code\", \"year\")\n",
                "mappings = cat2cat_mappings(trans, \"backward\")\n",
                "ml = cat2cat_ml(o_new, \"code\", [\"salary\", \"age\"], [RandomForestClassifier()])\n",
                "\n",
                "res = cat2cat(data, mappings, ml)\n",
                "data_final = concat([res[\"old\"], res[\"new\"]])\n",
                "sub_cols = [\"id\", \"edu\", \"code\", \"year\", \"index_c2c\", \"g_new_c2c\", \"rep_c2c\", \"wei_naive_c2c\", \"wei_freq_c2c\"]\n",
                "data_final.groupby([\"year\"]).sample(5).loc[:, sub_cols]"
            ]
        },
        {
            "cell_type": "code",
            "execution_count": null,
            "metadata": {},
            "outputs": [],
            "source": []
        }
    ],
    "metadata": {
        "kernelspec": {
            "display_name": "Python 3.10.6 ('.venv': poetry)",
            "language": "python",
            "name": "python3"
        },
        "language_info": {
            "codemirror_mode": {
                "name": "ipython",
                "version": 3
            },
            "file_extension": ".py",
            "mimetype": "text/x-python",
            "name": "python",
            "nbconvert_exporter": "python",
            "pygments_lexer": "ipython3",
            "version": "3.10.6"
        },
        "vscode": {
            "interpreter": {
                "hash": "4d03c0596c3b959c81b29ef0685c029c97abeebc025b647cb9a87b20e91929f4"
            }
        }
    },
    "nbformat": 4,
    "nbformat_minor": 4
}
