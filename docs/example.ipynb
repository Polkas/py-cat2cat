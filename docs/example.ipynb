{
    "cells": [
        {
            "cell_type": "markdown",
            "metadata": {},
            "source": [
                "# Example usage\n",
                "\n",
                "To use `cat2cat` in a project:"
            ]
        },
        {
            "cell_type": "markdown",
            "metadata": {},
            "source": [
                "### Load data"
            ]
        },
        {
            "cell_type": "code",
            "execution_count": 1,
            "metadata": {},
            "outputs": [],
            "source": [
                "# cat2cat datasets\n",
                "from cat2cat.datasets import load_trans, load_occup\n",
                "trans = load_trans()\n",
                "occup = load_occup()"
            ]
        },
        {
            "cell_type": "markdown",
            "metadata": {},
            "source": [
                "### Low-level functions"
            ]
        },
        {
            "cell_type": "code",
            "execution_count": 2,
            "metadata": {},
            "outputs": [
                {
                    "data": {
                        "text/plain": [
                            "(['441401', '441402', '441403', '441490'], [0.0, 0.6, 0.0, 0.4])"
                        ]
                    },
                    "execution_count": 2,
                    "metadata": {},
                    "output_type": "execute_result"
                }
            ],
            "source": [
                "\n",
                "# Low-level functions\n",
                "from cat2cat.mappings import get_mappings, get_freqs, cat_apply_freq\n",
                "\n",
                "\n",
                "mappings = get_mappings(trans)\n",
                "occup = load_occup()\n",
                "codes_new = occup.code[occup.year == 2010].map(str).values\n",
                "freqs = get_freqs(codes_new)\n",
                "mapp_new_p = cat_apply_freq(mappings[\"to_new\"], freqs)\n",
                "# base period mappings and their frequencies probabilities\n",
                "(mappings[\"to_new\"]['3481'], mapp_new_p['3481'])"
            ]
        },
        {
            "cell_type": "markdown",
            "metadata": {},
            "source": [
                "### cat2cat procedure"
            ]
        },
        {
            "cell_type": "code",
            "execution_count": 3,
            "metadata": {},
            "outputs": [
                {
                    "data": {
                        "text/html": [
                            "<div>\n",
                            "<style scoped>\n",
                            "    .dataframe tbody tr th:only-of-type {\n",
                            "        vertical-align: middle;\n",
                            "    }\n",
                            "\n",
                            "    .dataframe tbody tr th {\n",
                            "        vertical-align: top;\n",
                            "    }\n",
                            "\n",
                            "    .dataframe thead th {\n",
                            "        text-align: right;\n",
                            "    }\n",
                            "</style>\n",
                            "<table border=\"1\" class=\"dataframe\">\n",
                            "  <thead>\n",
                            "    <tr style=\"text-align: right;\">\n",
                            "      <th></th>\n",
                            "      <th>id</th>\n",
                            "      <th>age</th>\n",
                            "      <th>sex</th>\n",
                            "      <th>edu</th>\n",
                            "      <th>exp</th>\n",
                            "      <th>district</th>\n",
                            "      <th>parttime</th>\n",
                            "      <th>salary</th>\n",
                            "      <th>code</th>\n",
                            "      <th>multiplier</th>\n",
                            "      <th>year</th>\n",
                            "      <th>code4</th>\n",
                            "      <th>index_c2c</th>\n",
                            "      <th>g_new_c2c</th>\n",
                            "      <th>rep_c2c</th>\n",
                            "      <th>wei_naive_c2c</th>\n",
                            "      <th>wei_freq_c2c</th>\n",
                            "    </tr>\n",
                            "  </thead>\n",
                            "  <tbody>\n",
                            "    <tr>\n",
                            "      <th>43805</th>\n",
                            "      <td>43806</td>\n",
                            "      <td>48.959711</td>\n",
                            "      <td>False</td>\n",
                            "      <td>4</td>\n",
                            "      <td>24.039711</td>\n",
                            "      <td>14</td>\n",
                            "      <td>1.00</td>\n",
                            "      <td>23814.997211</td>\n",
                            "      <td>814208</td>\n",
                            "      <td>611.706547</td>\n",
                            "      <td>2010</td>\n",
                            "      <td>8142</td>\n",
                            "      <td>10042</td>\n",
                            "      <td>814208</td>\n",
                            "      <td>1</td>\n",
                            "      <td>1.000000</td>\n",
                            "      <td>1.000000</td>\n",
                            "    </tr>\n",
                            "    <tr>\n",
                            "      <th>50853</th>\n",
                            "      <td>50854</td>\n",
                            "      <td>33.503743</td>\n",
                            "      <td>False</td>\n",
                            "      <td>6</td>\n",
                            "      <td>15.583743</td>\n",
                            "      <td>4</td>\n",
                            "      <td>1.00</td>\n",
                            "      <td>15920.851078</td>\n",
                            "      <td>752106</td>\n",
                            "      <td>567.751734</td>\n",
                            "      <td>2010</td>\n",
                            "      <td>7521</td>\n",
                            "      <td>17090</td>\n",
                            "      <td>752106</td>\n",
                            "      <td>1</td>\n",
                            "      <td>1.000000</td>\n",
                            "      <td>1.000000</td>\n",
                            "    </tr>\n",
                            "    <tr>\n",
                            "      <th>16902</th>\n",
                            "      <td>16903</td>\n",
                            "      <td>33.809735</td>\n",
                            "      <td>False</td>\n",
                            "      <td>1</td>\n",
                            "      <td>4.979735</td>\n",
                            "      <td>3</td>\n",
                            "      <td>0.67</td>\n",
                            "      <td>19272.250602</td>\n",
                            "      <td>2321</td>\n",
                            "      <td>410.323637</td>\n",
                            "      <td>2008</td>\n",
                            "      <td>2321</td>\n",
                            "      <td>5436</td>\n",
                            "      <td>232003</td>\n",
                            "      <td>34</td>\n",
                            "      <td>0.029412</td>\n",
                            "      <td>0.025046</td>\n",
                            "    </tr>\n",
                            "    <tr>\n",
                            "      <th>18024</th>\n",
                            "      <td>18025</td>\n",
                            "      <td>30.503545</td>\n",
                            "      <td>False</td>\n",
                            "      <td>1</td>\n",
                            "      <td>7.503545</td>\n",
                            "      <td>8</td>\n",
                            "      <td>1.00</td>\n",
                            "      <td>220797.186407</td>\n",
                            "      <td>2419</td>\n",
                            "      <td>575.660107</td>\n",
                            "      <td>2008</td>\n",
                            "      <td>2419</td>\n",
                            "      <td>21519</td>\n",
                            "      <td>242107</td>\n",
                            "      <td>46</td>\n",
                            "      <td>0.021739</td>\n",
                            "      <td>0.018519</td>\n",
                            "    </tr>\n",
                            "    <tr>\n",
                            "      <th>19829</th>\n",
                            "      <td>19830</td>\n",
                            "      <td>39.112248</td>\n",
                            "      <td>False</td>\n",
                            "      <td>1</td>\n",
                            "      <td>13.282248</td>\n",
                            "      <td>8</td>\n",
                            "      <td>1.00</td>\n",
                            "      <td>46225.356130</td>\n",
                            "      <td>2321</td>\n",
                            "      <td>488.815700</td>\n",
                            "      <td>2008</td>\n",
                            "      <td>2321</td>\n",
                            "      <td>44731</td>\n",
                            "      <td>233010</td>\n",
                            "      <td>34</td>\n",
                            "      <td>0.029412</td>\n",
                            "      <td>0.000928</td>\n",
                            "    </tr>\n",
                            "  </tbody>\n",
                            "</table>\n",
                            "</div>"
                        ],
                        "text/plain": [
                            "          id        age    sex  edu        exp  district  parttime  \\\n",
                            "43805  43806  48.959711  False    4  24.039711        14      1.00   \n",
                            "50853  50854  33.503743  False    6  15.583743         4      1.00   \n",
                            "16902  16903  33.809735  False    1   4.979735         3      0.67   \n",
                            "18024  18025  30.503545  False    1   7.503545         8      1.00   \n",
                            "19829  19830  39.112248  False    1  13.282248         8      1.00   \n",
                            "\n",
                            "              salary    code  multiplier  year code4  index_c2c g_new_c2c  \\\n",
                            "43805   23814.997211  814208  611.706547  2010  8142      10042    814208   \n",
                            "50853   15920.851078  752106  567.751734  2010  7521      17090    752106   \n",
                            "16902   19272.250602    2321  410.323637  2008  2321       5436    232003   \n",
                            "18024  220797.186407    2419  575.660107  2008  2419      21519    242107   \n",
                            "19829   46225.356130    2321  488.815700  2008  2321      44731    233010   \n",
                            "\n",
                            "       rep_c2c  wei_naive_c2c  wei_freq_c2c  \n",
                            "43805        1       1.000000      1.000000  \n",
                            "50853        1       1.000000      1.000000  \n",
                            "16902       34       0.029412      0.025046  \n",
                            "18024       46       0.021739      0.018519  \n",
                            "19829       34       0.029412      0.000928  "
                        ]
                    },
                    "execution_count": 3,
                    "metadata": {},
                    "output_type": "execute_result"
                }
            ],
            "source": [
                "from cat2cat import cat2cat\n",
                "from cat2cat.dataclass import cat2cat_data, cat2cat_mappings, cat2cat_ml\n",
                "\n",
                "from pandas import DataFrame, concat\n",
                "from sklearn.ensemble import RandomForestClassifier\n",
                "\n",
                "o_2006 = occup.loc[occup.year == 2006, :].copy()\n",
                "o_2008 = o_old = occup.loc[occup.year == 2008, :].copy()\n",
                "o_2010 = o_new = occup.loc[occup.year == 2010, :].copy()\n",
                "o_2012 = occup.loc[occup.year == 2012, :].copy()\n",
                "\n",
                "data = cat2cat_data(o_old, o_new, \"code\", \"code\", \"year\")\n",
                "mappings = cat2cat_mappings(trans, \"backward\")\n",
                "ml = cat2cat_ml(o_new, \"code\", [\"salary\", \"age\"], [RandomForestClassifier()])\n",
                "\n",
                "res = cat2cat(data, mappings, ml)\n",
                "data_final = concat([res[\"old\"], res[\"new\"]])\n",
                "data_final.sample(5)"
            ]
        },
        {
            "cell_type": "code",
            "execution_count": null,
            "metadata": {},
            "outputs": [],
            "source": []
        }
    ],
    "metadata": {
        "kernelspec": {
            "display_name": "Python 3.10.6 ('.venv': poetry)",
            "language": "python",
            "name": "python3"
        },
        "language_info": {
            "codemirror_mode": {
                "name": "ipython",
                "version": 3
            },
            "file_extension": ".py",
            "mimetype": "text/x-python",
            "name": "python",
            "nbconvert_exporter": "python",
            "pygments_lexer": "ipython3",
            "version": "3.10.6"
        },
        "vscode": {
            "interpreter": {
                "hash": "4d03c0596c3b959c81b29ef0685c029c97abeebc025b647cb9a87b20e91929f4"
            }
        }
    },
    "nbformat": 4,
    "nbformat_minor": 4
}
